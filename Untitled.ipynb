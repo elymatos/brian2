{
 "cells": [
  {
   "cell_type": "code",
   "execution_count": null,
   "id": "993fb11f-4591-4a50-b6fc-04853d3e21e9",
   "metadata": {},
   "outputs": [],
   "source": []
  }
 ],
 "metadata": {
  "kernelspec": {
   "display_name": "",
   "name": ""
  },
  "language_info": {
   "name": ""
  }
 },
 "nbformat": 4,
 "nbformat_minor": 5
}
